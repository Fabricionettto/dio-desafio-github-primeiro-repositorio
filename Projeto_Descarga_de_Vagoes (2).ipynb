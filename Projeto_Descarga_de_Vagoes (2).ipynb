{
 "cells": [
  {
   "cell_type": "code",
   "execution_count": 21,
   "id": "a5049e2f",
   "metadata": {},
   "outputs": [],
   "source": [
    "import numpy as np\n",
    "import pandas as pd\n",
    "import matplotlib.pyplot as plt\n",
    "import numpy as np\n"
   ]
  },
  {
   "cell_type": "code",
   "execution_count": 22,
   "id": "fb9f9185",
   "metadata": {},
   "outputs": [],
   "source": [
    "data = pd.read_csv(r\"C:\\Users\\Fabricio\\Desktop\\dados_vagao_git.csv\", sep = ';', encoding = 'utf-8')"
   ]
  },
  {
   "cell_type": "code",
   "execution_count": 29,
   "id": "66fe4c2b",
   "metadata": {},
   "outputs": [
    {
     "data": {
      "text/plain": [
       "Mês\n",
       "Outubro    4414\n",
       "Name: Descarga, dtype: int64"
      ]
     },
     "execution_count": 29,
     "metadata": {},
     "output_type": "execute_result"
    }
   ],
   "source": [
    "data.groupby(['Mês'])['Descarga'].count()"
   ]
  },
  {
   "cell_type": "code",
   "execution_count": 23,
   "id": "a5a9a2b3",
   "metadata": {},
   "outputs": [
    {
     "data": {
      "text/html": [
       "<div>\n",
       "<style scoped>\n",
       "    .dataframe tbody tr th:only-of-type {\n",
       "        vertical-align: middle;\n",
       "    }\n",
       "\n",
       "    .dataframe tbody tr th {\n",
       "        vertical-align: top;\n",
       "    }\n",
       "\n",
       "    .dataframe thead th {\n",
       "        text-align: right;\n",
       "    }\n",
       "</style>\n",
       "<table border=\"1\" class=\"dataframe\">\n",
       "  <thead>\n",
       "    <tr style=\"text-align: right;\">\n",
       "      <th></th>\n",
       "      <th>Mês</th>\n",
       "      <th>Data</th>\n",
       "      <th>Equipe</th>\n",
       "      <th>Descarga</th>\n",
       "    </tr>\n",
       "  </thead>\n",
       "  <tbody>\n",
       "    <tr>\n",
       "      <th>0</th>\n",
       "      <td>Outubro</td>\n",
       "      <td>19/10/2021</td>\n",
       "      <td>A</td>\n",
       "      <td>HPT0311227</td>\n",
       "    </tr>\n",
       "    <tr>\n",
       "      <th>1</th>\n",
       "      <td>Outubro</td>\n",
       "      <td>19/10/2021</td>\n",
       "      <td>A</td>\n",
       "      <td>HPT0311227</td>\n",
       "    </tr>\n",
       "    <tr>\n",
       "      <th>2</th>\n",
       "      <td>Outubro</td>\n",
       "      <td>19/10/2021</td>\n",
       "      <td>A</td>\n",
       "      <td>HPT0311227</td>\n",
       "    </tr>\n",
       "    <tr>\n",
       "      <th>3</th>\n",
       "      <td>Outubro</td>\n",
       "      <td>19/10/2021</td>\n",
       "      <td>A</td>\n",
       "      <td>HPT0311227</td>\n",
       "    </tr>\n",
       "    <tr>\n",
       "      <th>4</th>\n",
       "      <td>Outubro</td>\n",
       "      <td>19/10/2021</td>\n",
       "      <td>A</td>\n",
       "      <td>HPT0311227</td>\n",
       "    </tr>\n",
       "  </tbody>\n",
       "</table>\n",
       "</div>"
      ],
      "text/plain": [
       "       Mês        Data Equipe    Descarga\n",
       "0  Outubro  19/10/2021      A  HPT0311227\n",
       "1  Outubro  19/10/2021      A  HPT0311227\n",
       "2  Outubro  19/10/2021      A  HPT0311227\n",
       "3  Outubro  19/10/2021      A  HPT0311227\n",
       "4  Outubro  19/10/2021      A  HPT0311227"
      ]
     },
     "execution_count": 23,
     "metadata": {},
     "output_type": "execute_result"
    }
   ],
   "source": [
    "data.head()"
   ]
  },
  {
   "cell_type": "code",
   "execution_count": 31,
   "id": "c8ac8ca5",
   "metadata": {},
   "outputs": [
    {
     "data": {
      "text/plain": [
       "Equipe\n",
       "A    1246\n",
       "B     916\n",
       "C    1087\n",
       "D    1038\n",
       "E     127\n",
       "Name: Descarga, dtype: int64"
      ]
     },
     "execution_count": 31,
     "metadata": {},
     "output_type": "execute_result"
    }
   ],
   "source": [
    "data.groupby(['Equipe'])['Descarga'].count()"
   ]
  },
  {
   "cell_type": "code",
   "execution_count": 32,
   "id": "d713bb88",
   "metadata": {},
   "outputs": [
    {
     "data": {
      "text/plain": [
       "Data\n",
       "01/10/2021    195\n",
       "02/10/2021    240\n",
       "03/10/2021    243\n",
       "04/10/2021    173\n",
       "05/10/2021    252\n",
       "06/10/2021    180\n",
       "07/10/2021    218\n",
       "08/10/2021    202\n",
       "09/10/2021    146\n",
       "10/10/2021     27\n",
       "11/10/2021     91\n",
       "12/10/2021    259\n",
       "13/10/2021    216\n",
       "14/10/2021    312\n",
       "15/10/2021    295\n",
       "16/10/2021    289\n",
       "17/10/2021    235\n",
       "18/10/2021     62\n",
       "19/10/2021     52\n",
       "20/10/2021     52\n",
       "21/10/2021     34\n",
       "22/10/2021     34\n",
       "23/10/2021     66\n",
       "24/10/2021     35\n",
       "25/10/2021    108\n",
       "26/10/2021     42\n",
       "27/10/2021     71\n",
       "28/10/2021     79\n",
       "29/10/2021    125\n",
       "30/10/2021     81\n",
       "Name: Descarga, dtype: int64"
      ]
     },
     "execution_count": 32,
     "metadata": {},
     "output_type": "execute_result"
    }
   ],
   "source": [
    "data.groupby(['Data'])['Descarga'].count()"
   ]
  },
  {
   "cell_type": "code",
   "execution_count": 30,
   "id": "11e9f3f9",
   "metadata": {},
   "outputs": [
    {
     "data": {
      "text/plain": [
       "<AxesSubplot:xlabel='Equipe'>"
      ]
     },
     "execution_count": 30,
     "metadata": {},
     "output_type": "execute_result"
    },
    {
     "data": {
      "image/png": "[encoded data removed]",
      "text/plain": [
       "<Figure size 432x288 with 1 Axes>"
      ]
     },
     "metadata": {
      "needs_background": "light"
     },
     "output_type": "display_data"
    }
   ],
   "source": [
    "data.groupby(['Equipe'])['Descarga'].count().plot.bar()"
   ]
  },
  {
   "cell_type": "code",
   "execution_count": null,
   "id": "2ad87cea",
   "metadata": {},
   "outputs": [],
   "source": []
  },
  {
   "cell_type": "code",
   "execution_count": null,
   "id": "0bc6cc61",
   "metadata": {},
   "outputs": [],
   "source": []
  },
  {
   "cell_type": "code",
   "execution_count": null,
   "id": "7c226753",
   "metadata": {},
   "outputs": [],
   "source": []
  },
  {
   "cell_type": "code",
   "execution_count": null,
   "id": "02c6b8cc",
   "metadata": {},
   "outputs": [],
   "source": []
  }
 ],
 "metadata": {
  "kernelspec": {
   "display_name": "Python 3",
   "language": "python",
   "name": "python3"
  },
  "language_info": {
   "codemirror_mode": {
    "name": "ipython",
    "version": 3
   },
   "file_extension": ".py",
   "mimetype": "text/x-python",
   "name": "python",
   "nbconvert_exporter": "python",
   "pygments_lexer": "ipython3",
   "version": "3.8.8"
  }
 },
 "nbformat": 4,
 "nbformat_minor": 5
}
