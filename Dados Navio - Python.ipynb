{
 "cells": [
  {
   "cell_type": "code",
   "execution_count": 4,
   "id": "ae5d15f6",
   "metadata": {},
   "outputs": [],
   "source": [
    "import numpy as np\n",
    "import pandas as pd\n",
    "import matplotlib.pyplot as plt\n",
    "import numpy as np"
   ]
  },
  {
   "cell_type": "code",
   "execution_count": 5,
   "id": "e325359b",
   "metadata": {},
   "outputs": [],
   "source": [
    "data = pd.read_csv(r\"C:\\Users\\Fabricio\\Desktop\\Excel Csv\\dados_navio.csv\", sep = ';', encoding = 'utf-8')"
   ]
  },
  {
   "cell_type": "code",
   "execution_count": 6,
   "id": "1e2b2935",
   "metadata": {},
   "outputs": [
    {
     "data": {
      "text/html": [
       "<div>\n",
       "<style scoped>\n",
       "    .dataframe tbody tr th:only-of-type {\n",
       "        vertical-align: middle;\n",
       "    }\n",
       "\n",
       "    .dataframe tbody tr th {\n",
       "        vertical-align: top;\n",
       "    }\n",
       "\n",
       "    .dataframe thead th {\n",
       "        text-align: right;\n",
       "    }\n",
       "</style>\n",
       "<table border=\"1\" class=\"dataframe\">\n",
       "  <thead>\n",
       "    <tr style=\"text-align: right;\">\n",
       "      <th></th>\n",
       "      <th>container</th>\n",
       "      <th>dim</th>\n",
       "      <th>pol</th>\n",
       "      <th>pod</th>\n",
       "      <th>entrega</th>\n",
       "      <th>armador</th>\n",
       "      <th>tipo</th>\n",
       "      <th>altura</th>\n",
       "      <th>status</th>\n",
       "      <th>peso</th>\n",
       "      <th>unidade</th>\n",
       "    </tr>\n",
       "  </thead>\n",
       "  <tbody>\n",
       "    <tr>\n",
       "      <th>0</th>\n",
       "      <td>TRHU1100636</td>\n",
       "      <td>20</td>\n",
       "      <td>BEANR</td>\n",
       "      <td>BRPNG</td>\n",
       "      <td>BRPNG</td>\n",
       "      <td>amarelo</td>\n",
       "      <td>DV</td>\n",
       "      <td>8'6</td>\n",
       "      <td>Full</td>\n",
       "      <td>21.480</td>\n",
       "      <td>1</td>\n",
       "    </tr>\n",
       "    <tr>\n",
       "      <th>1</th>\n",
       "      <td>MRKU7085894</td>\n",
       "      <td>20</td>\n",
       "      <td>BEANR</td>\n",
       "      <td>BRPNG</td>\n",
       "      <td>BRPNG</td>\n",
       "      <td>vermelho</td>\n",
       "      <td>DV</td>\n",
       "      <td>8'6</td>\n",
       "      <td>Full</td>\n",
       "      <td>19.040</td>\n",
       "      <td>1</td>\n",
       "    </tr>\n",
       "    <tr>\n",
       "      <th>2</th>\n",
       "      <td>TRLU9369933</td>\n",
       "      <td>20</td>\n",
       "      <td>BRSSZ</td>\n",
       "      <td>BRPNG</td>\n",
       "      <td>BRPNG</td>\n",
       "      <td>vermelho</td>\n",
       "      <td>DV</td>\n",
       "      <td>8'6</td>\n",
       "      <td>Full</td>\n",
       "      <td>6.850</td>\n",
       "      <td>1</td>\n",
       "    </tr>\n",
       "    <tr>\n",
       "      <th>3</th>\n",
       "      <td>MRKU5758635</td>\n",
       "      <td>40</td>\n",
       "      <td>BEANR</td>\n",
       "      <td>BRPNG</td>\n",
       "      <td>BRPNG</td>\n",
       "      <td>vermelho</td>\n",
       "      <td>HC</td>\n",
       "      <td>9'6</td>\n",
       "      <td>Full</td>\n",
       "      <td>12.951</td>\n",
       "      <td>1</td>\n",
       "    </tr>\n",
       "    <tr>\n",
       "      <th>4</th>\n",
       "      <td>MWCU5242091</td>\n",
       "      <td>40</td>\n",
       "      <td>BRSSZ</td>\n",
       "      <td>UYMVD</td>\n",
       "      <td>UYMVD</td>\n",
       "      <td>roxo</td>\n",
       "      <td>HC</td>\n",
       "      <td>9'6</td>\n",
       "      <td>MT</td>\n",
       "      <td>4.620</td>\n",
       "      <td>1</td>\n",
       "    </tr>\n",
       "  </tbody>\n",
       "</table>\n",
       "</div>"
      ],
      "text/plain": [
       "     container  dim    pol    pod entrega   armador tipo altura status  \\\n",
       "0  TRHU1100636   20  BEANR  BRPNG   BRPNG   amarelo   DV    8'6   Full   \n",
       "1  MRKU7085894   20  BEANR  BRPNG   BRPNG  vermelho   DV    8'6   Full   \n",
       "2  TRLU9369933   20  BRSSZ  BRPNG   BRPNG  vermelho   DV    8'6   Full   \n",
       "3  MRKU5758635   40  BEANR  BRPNG   BRPNG  vermelho   HC    9'6   Full   \n",
       "4  MWCU5242091   40  BRSSZ  UYMVD   UYMVD      roxo   HC    9'6     MT   \n",
       "\n",
       "     peso  unidade  \n",
       "0  21.480        1  \n",
       "1  19.040        1  \n",
       "2   6.850        1  \n",
       "3  12.951        1  \n",
       "4   4.620        1  "
      ]
     },
     "execution_count": 6,
     "metadata": {},
     "output_type": "execute_result"
    }
   ],
   "source": [
    "data.head()"
   ]
  },
  {
   "cell_type": "code",
   "execution_count": 7,
   "id": "8354e59f",
   "metadata": {},
   "outputs": [
    {
     "data": {
      "text/plain": [
       "armador   pol    peso  \n",
       "amarelo   BEANR  3.048     1\n",
       "                 3.368     1\n",
       "                 3.530     1\n",
       "                 4.653     1\n",
       "                 4.804     1\n",
       "                          ..\n",
       "vermelho  NLRTM  30.459    1\n",
       "                 30.940    1\n",
       "                 32.312    1\n",
       "                 32.520    3\n",
       "                 32.750    1\n",
       "Name: status, Length: 1795, dtype: int64"
      ]
     },
     "execution_count": 7,
     "metadata": {},
     "output_type": "execute_result"
    }
   ],
   "source": [
    "data.groupby(['armador','pol','peso'])['status'].count()"
   ]
  },
  {
   "cell_type": "code",
   "execution_count": 15,
   "id": "ed78926b",
   "metadata": {},
   "outputs": [
    {
     "data": {
      "text/plain": [
       "unidade  armador   peso  \n",
       "1        amarelo   2.860      2\n",
       "                   2.880     15\n",
       "                   2.910      1\n",
       "                   2.940      1\n",
       "                   2.960      1\n",
       "                             ..\n",
       "         vermelho  32.761     1\n",
       "                   32.960     1\n",
       "                   32.970     1\n",
       "                   33.070     1\n",
       "                   33.090     2\n",
       "Name: status, Length: 1744, dtype: int64"
      ]
     },
     "execution_count": 15,
     "metadata": {},
     "output_type": "execute_result"
    }
   ],
   "source": [
    "data.groupby(['unidade','armador','peso'])['status'].count()"
   ]
  },
  {
   "cell_type": "code",
   "execution_count": 8,
   "id": "c7fd4d4e",
   "metadata": {},
   "outputs": [
    {
     "data": {
      "text/plain": [
       "armador   pod    peso  \n",
       "amarelo   ARBUE  2.860      2\n",
       "                 2.880     15\n",
       "                 2.910      1\n",
       "                 2.940      1\n",
       "                 2.960      1\n",
       "                           ..\n",
       "vermelho  UYMVD  30.451     1\n",
       "                 30.459     1\n",
       "                 30.600     2\n",
       "                 30.740     1\n",
       "                 32.400     1\n",
       "Name: status, Length: 1785, dtype: int64"
      ]
     },
     "execution_count": 8,
     "metadata": {},
     "output_type": "execute_result"
    }
   ],
   "source": [
    "data.groupby(['armador','pod','peso'])['status'].count()"
   ]
  },
  {
   "cell_type": "code",
   "execution_count": 10,
   "id": "dd25c3d7",
   "metadata": {},
   "outputs": [
    {
     "data": {
      "text/plain": [
       "armador   tipo  status\n",
       "amarelo   DV    Full      247\n",
       "          HC    Full      258\n",
       "          RE    Full       56\n",
       "                MT         32\n",
       "          TK    Full        9\n",
       "                MT          1\n",
       "azul      DV    Full       34\n",
       "          HC    Full       19\n",
       "branco    DV    Full       57\n",
       "          HC    Full       25\n",
       "                MT         11\n",
       "          RE    Full        4\n",
       "                MT         39\n",
       "cinza     DV    Full        8\n",
       "          HC    Full       12\n",
       "          RE    Full        8\n",
       "roxo      DV    Full       53\n",
       "                MT          4\n",
       "          HC    Full      214\n",
       "                MT        121\n",
       "          RE    Full      183\n",
       "                MT        169\n",
       "verde     DV    Full       41\n",
       "          HC    Full       46\n",
       "          OT    Full        6\n",
       "          RE    Full        1\n",
       "          TK    Full       11\n",
       "vermelho  DV    Full      157\n",
       "          HC    Full      422\n",
       "          OT    Full        7\n",
       "          RE    Full      111\n",
       "          TK    Full       16\n",
       "Name: unidade, dtype: int64"
      ]
     },
     "execution_count": 10,
     "metadata": {},
     "output_type": "execute_result"
    }
   ],
   "source": [
    "data.groupby(['armador','tipo','status'])['unidade'].count()"
   ]
  },
  {
   "cell_type": "code",
   "execution_count": 17,
   "id": "6f4b9a96",
   "metadata": {},
   "outputs": [
    {
     "data": {
      "text/html": [
       "<div>\n",
       "<style scoped>\n",
       "    .dataframe tbody tr th:only-of-type {\n",
       "        vertical-align: middle;\n",
       "    }\n",
       "\n",
       "    .dataframe tbody tr th {\n",
       "        vertical-align: top;\n",
       "    }\n",
       "\n",
       "    .dataframe thead th {\n",
       "        text-align: right;\n",
       "    }\n",
       "</style>\n",
       "<table border=\"1\" class=\"dataframe\">\n",
       "  <thead>\n",
       "    <tr style=\"text-align: right;\">\n",
       "      <th></th>\n",
       "      <th>container</th>\n",
       "      <th>dim</th>\n",
       "      <th>pol</th>\n",
       "      <th>pod</th>\n",
       "      <th>entrega</th>\n",
       "      <th>armador</th>\n",
       "      <th>tipo</th>\n",
       "      <th>altura</th>\n",
       "      <th>status</th>\n",
       "      <th>peso</th>\n",
       "      <th>unidade</th>\n",
       "    </tr>\n",
       "  </thead>\n",
       "  <tbody>\n",
       "    <tr>\n",
       "      <th>0</th>\n",
       "      <td>TRHU1100636</td>\n",
       "      <td>20</td>\n",
       "      <td>BEANR</td>\n",
       "      <td>BRPNG</td>\n",
       "      <td>BRPNG</td>\n",
       "      <td>amarelo</td>\n",
       "      <td>DV</td>\n",
       "      <td>8'6</td>\n",
       "      <td>Full</td>\n",
       "      <td>21.480</td>\n",
       "      <td>1</td>\n",
       "    </tr>\n",
       "    <tr>\n",
       "      <th>1</th>\n",
       "      <td>MRKU7085894</td>\n",
       "      <td>20</td>\n",
       "      <td>BEANR</td>\n",
       "      <td>BRPNG</td>\n",
       "      <td>BRPNG</td>\n",
       "      <td>vermelho</td>\n",
       "      <td>DV</td>\n",
       "      <td>8'6</td>\n",
       "      <td>Full</td>\n",
       "      <td>19.040</td>\n",
       "      <td>1</td>\n",
       "    </tr>\n",
       "    <tr>\n",
       "      <th>2</th>\n",
       "      <td>TRLU9369933</td>\n",
       "      <td>20</td>\n",
       "      <td>BRSSZ</td>\n",
       "      <td>BRPNG</td>\n",
       "      <td>BRPNG</td>\n",
       "      <td>vermelho</td>\n",
       "      <td>DV</td>\n",
       "      <td>8'6</td>\n",
       "      <td>Full</td>\n",
       "      <td>6.850</td>\n",
       "      <td>1</td>\n",
       "    </tr>\n",
       "    <tr>\n",
       "      <th>3</th>\n",
       "      <td>MRKU5758635</td>\n",
       "      <td>40</td>\n",
       "      <td>BEANR</td>\n",
       "      <td>BRPNG</td>\n",
       "      <td>BRPNG</td>\n",
       "      <td>vermelho</td>\n",
       "      <td>HC</td>\n",
       "      <td>9'6</td>\n",
       "      <td>Full</td>\n",
       "      <td>12.951</td>\n",
       "      <td>1</td>\n",
       "    </tr>\n",
       "    <tr>\n",
       "      <th>4</th>\n",
       "      <td>MWCU5242091</td>\n",
       "      <td>40</td>\n",
       "      <td>BRSSZ</td>\n",
       "      <td>UYMVD</td>\n",
       "      <td>UYMVD</td>\n",
       "      <td>roxo</td>\n",
       "      <td>HC</td>\n",
       "      <td>9'6</td>\n",
       "      <td>MT</td>\n",
       "      <td>4.620</td>\n",
       "      <td>1</td>\n",
       "    </tr>\n",
       "  </tbody>\n",
       "</table>\n",
       "</div>"
      ],
      "text/plain": [
       "     container  dim    pol    pod entrega   armador tipo altura status  \\\n",
       "0  TRHU1100636   20  BEANR  BRPNG   BRPNG   amarelo   DV    8'6   Full   \n",
       "1  MRKU7085894   20  BEANR  BRPNG   BRPNG  vermelho   DV    8'6   Full   \n",
       "2  TRLU9369933   20  BRSSZ  BRPNG   BRPNG  vermelho   DV    8'6   Full   \n",
       "3  MRKU5758635   40  BEANR  BRPNG   BRPNG  vermelho   HC    9'6   Full   \n",
       "4  MWCU5242091   40  BRSSZ  UYMVD   UYMVD      roxo   HC    9'6     MT   \n",
       "\n",
       "     peso  unidade  \n",
       "0  21.480        1  \n",
       "1  19.040        1  \n",
       "2   6.850        1  \n",
       "3  12.951        1  \n",
       "4   4.620        1  "
      ]
     },
     "execution_count": 17,
     "metadata": {},
     "output_type": "execute_result"
    }
   ],
   "source": [
    "data.head()"
   ]
  },
  {
   "cell_type": "code",
   "execution_count": 25,
   "id": "1951b0a0",
   "metadata": {},
   "outputs": [
    {
     "data": {
      "text/plain": [
       "tipo  status\n",
       "DV    Full      597\n",
       "      MT          4\n",
       "HC    Full      996\n",
       "      MT        132\n",
       "OT    Full       13\n",
       "RE    Full      363\n",
       "      MT        240\n",
       "TK    Full       36\n",
       "      MT          1\n",
       "Name: unidade, dtype: int64"
      ]
     },
     "execution_count": 25,
     "metadata": {},
     "output_type": "execute_result"
    }
   ],
   "source": [
    "data.groupby(['tipo','status'])['unidade'].count()"
   ]
  },
  {
   "cell_type": "code",
   "execution_count": 27,
   "id": "8ad7579b",
   "metadata": {},
   "outputs": [
    {
     "data": {
      "text/plain": [
       "armador   pol    peso  \n",
       "amarelo   BEANR  3.048     1\n",
       "                 3.368     1\n",
       "                 3.530     1\n",
       "                 4.653     1\n",
       "                 4.804     1\n",
       "                          ..\n",
       "vermelho  NLRTM  30.459    1\n",
       "                 30.940    1\n",
       "                 32.312    1\n",
       "                 32.520    3\n",
       "                 32.750    1\n",
       "Name: status, Length: 1795, dtype: int64"
      ]
     },
     "execution_count": 27,
     "metadata": {},
     "output_type": "execute_result"
    }
   ],
   "source": [
    "data.groupby(['armador','pol','peso'])['status'].count()"
   ]
  },
  {
   "cell_type": "code",
   "execution_count": 20,
   "id": "c213e7fc",
   "metadata": {},
   "outputs": [
    {
     "data": {
      "text/html": [
       "<div>\n",
       "<style scoped>\n",
       "    .dataframe tbody tr th:only-of-type {\n",
       "        vertical-align: middle;\n",
       "    }\n",
       "\n",
       "    .dataframe tbody tr th {\n",
       "        vertical-align: top;\n",
       "    }\n",
       "\n",
       "    .dataframe thead th {\n",
       "        text-align: right;\n",
       "    }\n",
       "</style>\n",
       "<table border=\"1\" class=\"dataframe\">\n",
       "  <thead>\n",
       "    <tr style=\"text-align: right;\">\n",
       "      <th></th>\n",
       "      <th>peso</th>\n",
       "    </tr>\n",
       "    <tr>\n",
       "      <th>armador</th>\n",
       "      <th></th>\n",
       "    </tr>\n",
       "  </thead>\n",
       "  <tbody>\n",
       "    <tr>\n",
       "      <th>amarelo</th>\n",
       "      <td>10036.547</td>\n",
       "    </tr>\n",
       "    <tr>\n",
       "      <th>azul</th>\n",
       "      <td>892.599</td>\n",
       "    </tr>\n",
       "    <tr>\n",
       "      <th>branco</th>\n",
       "      <td>1950.462</td>\n",
       "    </tr>\n",
       "    <tr>\n",
       "      <th>cinza</th>\n",
       "      <td>478.362</td>\n",
       "    </tr>\n",
       "    <tr>\n",
       "      <th>roxo</th>\n",
       "      <td>12719.744</td>\n",
       "    </tr>\n",
       "    <tr>\n",
       "      <th>verde</th>\n",
       "      <td>2115.462</td>\n",
       "    </tr>\n",
       "    <tr>\n",
       "      <th>vermelho</th>\n",
       "      <td>12999.918</td>\n",
       "    </tr>\n",
       "  </tbody>\n",
       "</table>\n",
       "</div>"
      ],
      "text/plain": [
       "               peso\n",
       "armador            \n",
       "amarelo   10036.547\n",
       "azul        892.599\n",
       "branco     1950.462\n",
       "cinza       478.362\n",
       "roxo      12719.744\n",
       "verde      2115.462\n",
       "vermelho  12999.918"
      ]
     },
     "execution_count": 20,
     "metadata": {},
     "output_type": "execute_result"
    }
   ],
   "source": [
    "data.groupby('armador')[['pol',]].sum()"
   ]
  },
  {
   "cell_type": "code",
   "execution_count": 23,
   "id": "5815ec9a",
   "metadata": {},
   "outputs": [
    {
     "data": {
      "text/html": [
       "<div>\n",
       "<style scoped>\n",
       "    .dataframe tbody tr th:only-of-type {\n",
       "        vertical-align: middle;\n",
       "    }\n",
       "\n",
       "    .dataframe tbody tr th {\n",
       "        vertical-align: top;\n",
       "    }\n",
       "\n",
       "    .dataframe thead th {\n",
       "        text-align: right;\n",
       "    }\n",
       "</style>\n",
       "<table border=\"1\" class=\"dataframe\">\n",
       "  <thead>\n",
       "    <tr style=\"text-align: right;\">\n",
       "      <th></th>\n",
       "      <th>peso</th>\n",
       "    </tr>\n",
       "    <tr>\n",
       "      <th>pod</th>\n",
       "      <th></th>\n",
       "    </tr>\n",
       "  </thead>\n",
       "  <tbody>\n",
       "    <tr>\n",
       "      <th>ARBUE</th>\n",
       "      <td>12351.703</td>\n",
       "    </tr>\n",
       "    <tr>\n",
       "      <th>BRPNG</th>\n",
       "      <td>20044.381</td>\n",
       "    </tr>\n",
       "    <tr>\n",
       "      <th>BRSSZ</th>\n",
       "      <td>22.120</td>\n",
       "    </tr>\n",
       "    <tr>\n",
       "      <th>UYMVD</th>\n",
       "      <td>8774.890</td>\n",
       "    </tr>\n",
       "  </tbody>\n",
       "</table>\n",
       "</div>"
      ],
      "text/plain": [
       "            peso\n",
       "pod             \n",
       "ARBUE  12351.703\n",
       "BRPNG  20044.381\n",
       "BRSSZ     22.120\n",
       "UYMVD   8774.890"
      ]
     },
     "execution_count": 23,
     "metadata": {},
     "output_type": "execute_result"
    }
   ],
   "source": [
    "data.groupby('pod')[['armador','peso']].sum()"
   ]
  },
  {
   "cell_type": "code",
   "execution_count": 24,
   "id": "39166254",
   "metadata": {},
   "outputs": [
    {
     "data": {
      "text/plain": [
       "status\n",
       "Full    2005\n",
       "MT       377\n",
       "dtype: int64"
      ]
     },
     "execution_count": 24,
     "metadata": {},
     "output_type": "execute_result"
    }
   ],
   "source": [
    "data.groupby('status').size()"
   ]
  },
  {
   "cell_type": "code",
   "execution_count": 25,
   "id": "eb8482a5",
   "metadata": {},
   "outputs": [
    {
     "data": {
      "text/plain": [
       "entrega\n",
       "ARBUE    695\n",
       "ARMDQ      2\n",
       "ARPMY     13\n",
       "ARROS      2\n",
       "ARUSH      3\n",
       "BEANR      1\n",
       "BRPIN      1\n",
       "BRPNG    976\n",
       "BRSSZ     73\n",
       "PYASU     14\n",
       "PYVLL     18\n",
       "UYMVD    572\n",
       "dtype: int64"
      ]
     },
     "execution_count": 25,
     "metadata": {},
     "output_type": "execute_result"
    }
   ],
   "source": [
    "data.groupby('entrega').size()"
   ]
  },
  {
   "cell_type": "code",
   "execution_count": 28,
   "id": "b33ec30e",
   "metadata": {},
   "outputs": [
    {
     "data": {
      "text/plain": [
       "armador\n",
       "amarelo     603\n",
       "azul         53\n",
       "branco      136\n",
       "cinza        28\n",
       "roxo        744\n",
       "verde       105\n",
       "vermelho    713\n",
       "dtype: int64"
      ]
     },
     "execution_count": 28,
     "metadata": {},
     "output_type": "execute_result"
    }
   ],
   "source": [
    "data.groupby('armador').size()"
   ]
  },
  {
   "cell_type": "code",
   "execution_count": null,
   "id": "4b22b3a1",
   "metadata": {},
   "outputs": [],
   "source": []
  }
 ],
 "metadata": {
  "kernelspec": {
   "display_name": "Python 3",
   "language": "python",
   "name": "python3"
  },
  "language_info": {
   "codemirror_mode": {
    "name": "ipython",
    "version": 3
   },
   "file_extension": ".py",
   "mimetype": "text/x-python",
   "name": "python",
   "nbconvert_exporter": "python",
   "pygments_lexer": "ipython3",
   "version": "3.8.8"
  }
 },
 "nbformat": 4,
 "nbformat_minor": 5
}
